{
  "cells": [
    {
      "cell_type": "markdown",
      "metadata": {
        "id": "LHPqAfoY0TO0"
      },
      "source": [
        "# Implementation of a KAN for classification\n",
        "In this notebook I implement a Kolmogorov-Arnold Network (KAN) for the use of classification and compare it against a neural network of a similar architecture."
      ]
    },
    {
      "cell_type": "markdown",
      "metadata": {
        "id": "LRMpDTp_cVt5"
      },
      "source": [
        "## Initialisations"
      ]
    },
    {
      "cell_type": "markdown",
      "metadata": {
        "id": "D7ERosp1iM17"
      },
      "source": [
        "## Creating and Training the KAN"
      ]
    },
    {
      "cell_type": "code",
      "execution_count": 1,
      "metadata": {},
      "outputs": [],
      "source": [
        "from fastkan import FastKAN as KAN \n",
        "import pandas as pd  \n",
        "import torch\n",
        "import torch.nn as nn\n",
        "import torch.optim as optim\n",
        "import torchvision\n",
        "from torchvision import transforms\n",
        "from torch.utils.data import DataLoader, Dataset\n",
        "from tqdm import tqdm\n",
        "import numpy as np\n",
        "import cv2\n",
        "import random\n",
        "from scipy.stats import poisson\n",
        "# Display the noisy images\n",
        "import matplotlib.pyplot as plt\n",
        "from skimage.metrics import structural_similarity as ssim"
      ]
    },
    {
      "cell_type": "code",
      "execution_count": 2,
      "metadata": {},
      "outputs": [
        {
          "name": "stdout",
          "output_type": "stream",
          "text": [
            "cuda\n"
          ]
        }
      ],
      "source": [
        "# Checking for GPU\n",
        "device = torch.device(\"cuda\" if torch.cuda.is_available() else \"cpu\")\n",
        "print(device)"
      ]
    },
    {
      "cell_type": "markdown",
      "metadata": {},
      "source": [
        "Adding Noise "
      ]
    },
    {
      "cell_type": "code",
      "execution_count": 3,
      "metadata": {},
      "outputs": [],
      "source": [
        "class AddGaussianNoise:\n",
        "    def __init__(self, mean=0, var=0.00056):\n",
        "        self.mean = mean\n",
        "        self.var = var\n",
        "\n",
        "    def __call__(self, image):\n",
        "        sigma = self.var ** 0.5\n",
        "        gaussian = np.random.normal(self.mean, sigma, image.shape)\n",
        "        noisy_image = np.clip(image + gaussian, 0, 1)\n",
        "        return torch.tensor(noisy_image).float()\n",
        "\n",
        "class AddSpeckleNoise:\n",
        "    def __init__(self, mean=0, var=0.0012):\n",
        "        self.mean = mean\n",
        "        self.var = var\n",
        "\n",
        "    def __call__(self, image):\n",
        "        gaussian = np.random.normal(self.mean, self.var ** 0.5, image.shape)\n",
        "        noisy_image = np.clip(image + image * gaussian, 0, 1)\n",
        "        return torch.tensor(noisy_image).float()\n",
        "\n",
        "class AddSaltAndPepperNoise:\n",
        "    def __init__(self, salt_prob=0.00971, pepper_prob=0.00974):\n",
        "        self.salt_prob = salt_prob\n",
        "        self.pepper_prob = pepper_prob\n",
        "\n",
        "    def __call__(self, image):\n",
        "        noisy_image = image\n",
        "        salt_mask = np.random.choice([0, 1], size=image.shape, p=[1 - self.salt_prob, self.salt_prob])\n",
        "        pepper_mask = np.random.choice([0, 1], size=image.shape, p=[1 - self.pepper_prob, self.pepper_prob])\n",
        "        noisy_image[salt_mask == 1] = 1\n",
        "        noisy_image[pepper_mask == 1] = 0\n",
        "        return torch.tensor(noisy_image).float()\n",
        "\n",
        "class AddPoissonNoise:\n",
        "    def __init__(self, scale_factor=1090, clip_min=0, clip_max=1):\n",
        "        self.scale_factor = scale_factor\n",
        "        self.clip_min = clip_min\n",
        "        self.clip_max = clip_max\n",
        "\n",
        "    def __call__(self, image):\n",
        "        if self.scale_factor is None:\n",
        "            vals = len(np.unique(image))\n",
        "            scale_factor = 2 ** np.ceil(np.log2(vals))\n",
        "        else:\n",
        "            scale_factor = self.scale_factor\n",
        "\n",
        "        noisy_image = np.random.poisson(image * scale_factor) / float(scale_factor)\n",
        "        noisy_image = np.clip(noisy_image, self.clip_min, self.clip_max)\n",
        "        return torch.tensor(noisy_image).float()\n",
        "\n",
        "class AddOcclusionNoise:\n",
        "    def __init__(self, size=0.2790):\n",
        "        self.size = size\n",
        "\n",
        "    def __call__(self, image):\n",
        "        noisy_image = image\n",
        "        h, w, _ = image.shape\n",
        "        occlusion_size = int(min(h, w) * self.size)\n",
        "        x = random.randint(0, w - occlusion_size)\n",
        "        y = random.randint(0, h - occlusion_size)\n",
        "        noisy_image[y:y+occlusion_size, x:x+occlusion_size] = 0\n",
        "        return torch.tensor(noisy_image).float()"
      ]
    },
    {
      "cell_type": "markdown",
      "metadata": {},
      "source": [
        "Loading Dataset"
      ]
    },
    {
      "cell_type": "code",
      "execution_count": 4,
      "metadata": {},
      "outputs": [],
      "source": [
        "# Define transformations for the dataset\n",
        "transform = transforms.Compose([\n",
        "    transforms.ToTensor(),\n",
        "    #AddGaussianNoise(),\n",
        "    #AddSpeckleNoise(),\n",
        "    #AddSaltAndPepperNoise(),\n",
        "    #AddPoissonNoise(),\n",
        "    AddOcclusionNoise(),\n",
        "])\n",
        "transform_test = transforms.Compose([\n",
        "    transforms.ToTensor(),\n",
        "    #AddGaussianNoise(),\n",
        "    #AddSpeckleNoise(),\n",
        "    #AddSaltAndPepperNoise(),\n",
        "    #AddPoissonNoise(),\n",
        "    AddOcclusionNoise(),\n",
        "])\n",
        "\n",
        "# Load the dataset\n",
        "trainset = torchvision.datasets.CIFAR100(\n",
        "    root=\"C:\\\\Users\\\\Moneeb Raza\\\\Downloads\\\\KAN\\\\KAN-master\\\\data\", train=True, download=False, transform=transform\n",
        ")\n",
        "valset = torchvision.datasets.CIFAR100(\n",
        "    root=\"C:\\\\Users\\\\Moneeb Raza\\\\Downloads\\\\KAN\\\\KAN-master\\\\data\", train=False, download=False, transform=transform_test\n",
        ")\n",
        "train_loader = DataLoader(trainset, batch_size=64, shuffle=False)\n",
        "valloader = DataLoader(valset, batch_size=64, shuffle=False)\n"
      ]
    },
    {
      "cell_type": "code",
      "execution_count": 5,
      "metadata": {},
      "outputs": [],
      "source": [
        "# Get a batch of images\n",
        "#dataiter = iter(train_loader)\n",
        "#images, labels = next(dataiter)\n",
        "#copyImages = images.clone()"
      ]
    },
    {
      "cell_type": "code",
      "execution_count": 6,
      "metadata": {},
      "outputs": [],
      "source": [
        "#noisy_images_gaussian = torch.stack([AddSpeckleNoise()(img.permute(1, 2, 0)) for img in images]).permute(0, 3, 1, 2)"
      ]
    },
    {
      "cell_type": "markdown",
      "metadata": {},
      "source": [
        "SSIM Metric"
      ]
    },
    {
      "cell_type": "code",
      "execution_count": 7,
      "metadata": {},
      "outputs": [
        {
          "ename": "NameError",
          "evalue": "name 'copyImages' is not defined",
          "output_type": "error",
          "traceback": [
            "\u001b[1;31m---------------------------------------------------------------------------\u001b[0m",
            "\u001b[1;31mNameError\u001b[0m                                 Traceback (most recent call last)",
            "Cell \u001b[1;32mIn[7], line 31\u001b[0m\n\u001b[0;32m     28\u001b[0m     \u001b[38;5;28;01mreturn\u001b[39;00m np\u001b[38;5;241m.\u001b[39mmean(ssim_values)\n\u001b[0;32m     30\u001b[0m \u001b[38;5;66;03m# Calculate PSNR and SSIM for the test set\u001b[39;00m\n\u001b[1;32m---> 31\u001b[0m psnr_values \u001b[38;5;241m=\u001b[39m calculate_psnr_batch(\u001b[43mcopyImages\u001b[49m[:\u001b[38;5;241m5\u001b[39m], noisy_images_gaussian[:\u001b[38;5;241m5\u001b[39m])\n\u001b[0;32m     32\u001b[0m mean_psnr \u001b[38;5;241m=\u001b[39m np\u001b[38;5;241m.\u001b[39mmean(psnr_values)\n\u001b[0;32m     33\u001b[0m \u001b[38;5;28mprint\u001b[39m(\u001b[38;5;124mf\u001b[39m\u001b[38;5;124m'\u001b[39m\u001b[38;5;124mMean PSNR: \u001b[39m\u001b[38;5;132;01m{\u001b[39;00mmean_psnr\u001b[38;5;132;01m}\u001b[39;00m\u001b[38;5;124m'\u001b[39m)\n",
            "\u001b[1;31mNameError\u001b[0m: name 'copyImages' is not defined"
          ]
        }
      ],
      "source": [
        "def calculate_psnr_batch(original, noisy,device= 'cuda'):\n",
        "    original = original.to(device)\n",
        "    noisy = noisy.to(device)\n",
        "    batch_size = original.shape[0]\n",
        "    psnr_values = []\n",
        "    for i in range(batch_size):\n",
        "        mse = torch.mean((original[i] - noisy[i]) ** 2).item()\n",
        "        if mse == 0:\n",
        "            psnr_values.append(100)\n",
        "        else:\n",
        "            max_pixel = 1.0\n",
        "            psnr = 20 * np.log10(max_pixel / np.sqrt(mse))\n",
        "            psnr_values.append(psnr)\n",
        "    return np.mean(psnr_values)\n",
        "\n",
        "def calculate_ssim_batch(original, noisy):\n",
        "    batch_size = original.shape[0]\n",
        "    ssim_values = []\n",
        "    for i in range(batch_size):\n",
        "        ssim_value = ssim(\n",
        "            original[i].permute(1, 2, 0).numpy(),\n",
        "            noisy[i].permute(1, 2, 0).numpy(),\n",
        "            win_size=3,\n",
        "            channel_axis=2,\n",
        "            data_range=1.0\n",
        "        )\n",
        "        ssim_values.append(ssim_value)\n",
        "    return np.mean(ssim_values)\n",
        "\n",
        "# Calculate PSNR and SSIM for the test set\n",
        "psnr_values = calculate_psnr_batch(copyImages[:5], noisy_images_gaussian[:5])\n",
        "mean_psnr = np.mean(psnr_values)\n",
        "print(f'Mean PSNR: {mean_psnr}')\n",
        "\n",
        "n = 5\n",
        "plt.figure(figsize=(10, 5))\n",
        "for i in range(n):\n",
        "    plt.subplot(2, n, i+1)\n",
        "    plt.imshow(np.transpose(copyImages[i], (1, 2, 0)))\n",
        "    plt.title(\"Original\")\n",
        "    plt.axis('off')\n",
        "    \n",
        "    plt.subplot(2, n, i+n+1)\n",
        "    plt.imshow(np.transpose(noisy_images_gaussian[i], (1, 2, 0)))\n",
        "    plt.title(\"Noisy\")\n",
        "    plt.axis('off')\n",
        "plt.show()\n",
        "\n",
        "ssim_values = calculate_ssim_batch(copyImages[:5], noisy_images_gaussian[:5])\n",
        "\n",
        "\n",
        "mean_ssim = np.mean(ssim_values)\n",
        "\n",
        "\n",
        "print(f'Mean SSIM: {mean_ssim}')\n",
        "\n",
        "n = 5\n",
        "plt.figure(figsize=(10, 5))\n",
        "for i in range(n):\n",
        "    plt.subplot(2, n, i+1)\n",
        "    plt.imshow(np.transpose(copyImages[i], (1, 2, 0)))\n",
        "    plt.title(\"Original\")\n",
        "    plt.axis('off')\n",
        "    \n",
        "    plt.subplot(2, n, i+n+1)\n",
        "    plt.imshow(np.transpose(noisy_images_gaussian[i], (1, 2, 0)))\n",
        "    plt.title(\"Noisy\")\n",
        "    plt.axis('off')\n",
        "plt.show()"
      ]
    },
    {
      "cell_type": "markdown",
      "metadata": {},
      "source": [
        "Optimizers"
      ]
    },
    {
      "cell_type": "code",
      "execution_count": 5,
      "metadata": {},
      "outputs": [],
      "source": [
        "# Define model\n",
        "model = KAN([1*32*32*3, 256, 512, 512, 512, 1024, 100]) \n",
        "device = torch.device(\"cuda\" if torch.cuda.is_available() else \"cpu\")\n",
        "model.to(device)\n",
        "# Define Adam optimizer\n",
        "#optimizer = optim.Adam(model.parameters(), lr=1e-3)\n",
        "# Define learning rate scheduler\n",
        "#scheduler = optim.lr_scheduler.ExponentialLR(optimizer, gamma=0.8)\n",
        "# Define AdamW optimizer\n",
        "optimizer = optim.AdamW(model.parameters(), lr=1e-3, weight_decay=1e-4)\n",
        "# Define learning rate scheduler\n",
        "scheduler = optim.lr_scheduler.ExponentialLR(optimizer, gamma=0.8)"
      ]
    },
    {
      "cell_type": "code",
      "execution_count": 6,
      "metadata": {},
      "outputs": [],
      "source": [
        "criterion = nn.BCEWithLogitsLoss()"
      ]
    },
    {
      "cell_type": "code",
      "execution_count": 7,
      "metadata": {},
      "outputs": [
        {
          "name": "stderr",
          "output_type": "stream",
          "text": [
            "  0%|          | 0/782 [00:00<?, ?it/s]C:\\Users\\Moneeb Raza\\AppData\\Local\\Temp\\ipykernel_29228\\3711713296.py:63: UserWarning: To copy construct from a tensor, it is recommended to use sourceTensor.clone().detach() or sourceTensor.clone().detach().requires_grad_(True), rather than torch.tensor(sourceTensor).\n",
            "  return torch.tensor(noisy_image).float()\n",
            "100%|██████████| 782/782 [00:38<00:00, 20.57it/s, accuracy=0.125, loss=0.0489, lr=0.001] \n"
          ]
        },
        {
          "name": "stdout",
          "output_type": "stream",
          "text": [
            "Epoch 1, Train Loss: 0.06258529586160122, Train Accuracy: 0.06669597186700767, Val Loss: 0.05506564878449319, Val Accuracy: 0.11106687898089172\n"
          ]
        },
        {
          "name": "stderr",
          "output_type": "stream",
          "text": [
            "100%|██████████| 782/782 [00:38<00:00, 20.58it/s, accuracy=0.312, loss=0.0398, lr=0.0008] \n"
          ]
        },
        {
          "name": "stdout",
          "output_type": "stream",
          "text": [
            "Epoch 2, Train Loss: 0.04911068101863727, Train Accuracy: 0.13984574808184144, Val Loss: 0.050859717331874145, Val Accuracy: 0.1477906050955414\n"
          ]
        },
        {
          "name": "stderr",
          "output_type": "stream",
          "text": [
            "100%|██████████| 782/782 [00:37<00:00, 20.66it/s, accuracy=0.375, loss=0.0324, lr=0.00064] \n"
          ]
        },
        {
          "name": "stdout",
          "output_type": "stream",
          "text": [
            "Epoch 3, Train Loss: 0.0446151919624842, Train Accuracy: 0.19830962276214834, Val Loss: 0.04892494555586462, Val Accuracy: 0.1751592356687898\n"
          ]
        },
        {
          "name": "stderr",
          "output_type": "stream",
          "text": [
            "100%|██████████| 782/782 [00:38<00:00, 20.50it/s, accuracy=0.625, loss=0.0232, lr=0.000512] \n"
          ]
        },
        {
          "name": "stdout",
          "output_type": "stream",
          "text": [
            "Epoch 4, Train Loss: 0.04030160421786635, Train Accuracy: 0.2609694693094629, Val Loss: 0.04787691281574547, Val Accuracy: 0.18889331210191082\n"
          ]
        },
        {
          "name": "stderr",
          "output_type": "stream",
          "text": [
            "100%|██████████| 782/782 [00:38<00:00, 20.53it/s, accuracy=0.812, loss=0.0178, lr=0.00041]\n"
          ]
        },
        {
          "name": "stdout",
          "output_type": "stream",
          "text": [
            "Epoch 5, Train Loss: 0.03635735290310801, Train Accuracy: 0.33008312020460356, Val Loss: 0.047599421493756545, Val Accuracy: 0.1988455414012739\n"
          ]
        },
        {
          "name": "stderr",
          "output_type": "stream",
          "text": [
            "100%|██████████| 782/782 [00:38<00:00, 20.55it/s, accuracy=0.688, loss=0.0176, lr=0.000328]\n"
          ]
        },
        {
          "name": "stdout",
          "output_type": "stream",
          "text": [
            "Epoch 6, Train Loss: 0.033251032423790156, Train Accuracy: 0.38465073529411764, Val Loss: 0.04933806980966003, Val Accuracy: 0.19735270700636942\n"
          ]
        },
        {
          "name": "stderr",
          "output_type": "stream",
          "text": [
            "100%|██████████| 782/782 [00:40<00:00, 19.48it/s, accuracy=0.938, loss=0.013, lr=0.000262] \n"
          ]
        },
        {
          "name": "stdout",
          "output_type": "stream",
          "text": [
            "Epoch 7, Train Loss: 0.030151876447069674, Train Accuracy: 0.44259510869565216, Val Loss: 0.050156171937846834, Val Accuracy: 0.20362261146496816\n"
          ]
        },
        {
          "name": "stderr",
          "output_type": "stream",
          "text": [
            "100%|██████████| 782/782 [00:39<00:00, 19.66it/s, accuracy=0.938, loss=0.00707, lr=0.00021]\n"
          ]
        },
        {
          "name": "stdout",
          "output_type": "stream",
          "text": [
            "Epoch 8, Train Loss: 0.02655728621041531, Train Accuracy: 0.5122482416879796, Val Loss: 0.052578609175742815, Val Accuracy: 0.20511544585987262\n"
          ]
        },
        {
          "name": "stderr",
          "output_type": "stream",
          "text": [
            "100%|██████████| 782/782 [00:39<00:00, 19.71it/s, accuracy=1, loss=0.00678, lr=0.000168]   \n"
          ]
        },
        {
          "name": "stdout",
          "output_type": "stream",
          "text": [
            "Epoch 9, Train Loss: 0.022991972830137025, Train Accuracy: 0.5871563299232737, Val Loss: 0.05309899542836627, Val Accuracy: 0.20521496815286625\n"
          ]
        },
        {
          "name": "stderr",
          "output_type": "stream",
          "text": [
            "100%|██████████| 782/782 [00:40<00:00, 19.48it/s, accuracy=1, loss=0.00422, lr=0.000134]   \n"
          ]
        },
        {
          "name": "stdout",
          "output_type": "stream",
          "text": [
            "Epoch 10, Train Loss: 0.019761318613625015, Train Accuracy: 0.6566695971867008, Val Loss: 0.05399699924383194, Val Accuracy: 0.21566480891719744\n"
          ]
        },
        {
          "name": "stderr",
          "output_type": "stream",
          "text": [
            "100%|██████████| 782/782 [00:40<00:00, 19.51it/s, accuracy=1, loss=0.00442, lr=0.000107]   \n"
          ]
        },
        {
          "name": "stdout",
          "output_type": "stream",
          "text": [
            "Epoch 11, Train Loss: 0.01679634557717749, Train Accuracy: 0.7232856457800512, Val Loss: 0.05530409583715117, Val Accuracy: 0.21894904458598727\n"
          ]
        },
        {
          "name": "stderr",
          "output_type": "stream",
          "text": [
            "100%|██████████| 782/782 [00:39<00:00, 19.60it/s, accuracy=1, loss=0.00445, lr=8.59e-5]    \n"
          ]
        },
        {
          "name": "stdout",
          "output_type": "stream",
          "text": [
            "Epoch 12, Train Loss: 0.014034194143517587, Train Accuracy: 0.7886828644501279, Val Loss: 0.057452393755032, Val Accuracy: 0.2217356687898089\n"
          ]
        },
        {
          "name": "stderr",
          "output_type": "stream",
          "text": [
            "100%|██████████| 782/782 [00:39<00:00, 19.55it/s, accuracy=1, loss=0.00286, lr=6.87e-5]    \n"
          ]
        },
        {
          "name": "stdout",
          "output_type": "stream",
          "text": [
            "Epoch 13, Train Loss: 0.012034230289713996, Train Accuracy: 0.837615888746803, Val Loss: 0.058850352053239845, Val Accuracy: 0.22452229299363058\n"
          ]
        },
        {
          "name": "stderr",
          "output_type": "stream",
          "text": [
            "100%|██████████| 782/782 [00:40<00:00, 19.45it/s, accuracy=1, loss=0.00255, lr=5.5e-5]    \n"
          ]
        },
        {
          "name": "stdout",
          "output_type": "stream",
          "text": [
            "Epoch 14, Train Loss: 0.010498470795290817, Train Accuracy: 0.8737412084398977, Val Loss: 0.05956835646158571, Val Accuracy: 0.23397691082802546\n"
          ]
        },
        {
          "name": "stderr",
          "output_type": "stream",
          "text": [
            "100%|██████████| 782/782 [00:40<00:00, 19.48it/s, accuracy=1, loss=0.00222, lr=4.4e-5]    \n"
          ]
        },
        {
          "name": "stdout",
          "output_type": "stream",
          "text": [
            "Epoch 15, Train Loss: 0.00905526049829343, Train Accuracy: 0.9059103260869565, Val Loss: 0.06046366587186315, Val Accuracy: 0.23527070063694266\n"
          ]
        }
      ],
      "source": [
        "train_losses = []\n",
        "train_accuracies = []\n",
        "val_losses = []\n",
        "val_accuracies = []\n",
        "for epoch in range(15):\n",
        "    model.train()\n",
        "    running_loss = 0.0\n",
        "    running_accuracy = 0.0\n",
        "    trainnoiseerror = 0.0\n",
        "    with tqdm(train_loader) as pbar:\n",
        "        for i, (images, labels) in enumerate(pbar):\n",
        "            images = images.view(-1, 32*32*3).to(device)\n",
        "            optimizer.zero_grad()\n",
        "            features = model(images)\n",
        "            labels_one_hot = torch.eye(100)[labels].to(device)  # Change to 100 classes\n",
        "            loss = criterion(features, labels_one_hot)\n",
        "            loss.backward()\n",
        "            optimizer.step()\n",
        "\n",
        "            # Compute accuracy\n",
        "            _, predicted_labels = torch.max(features, 1)\n",
        "            accuracy = (predicted_labels == labels.to(device)).float().mean()\n",
        "            \n",
        "            running_loss += loss.item()\n",
        "            running_accuracy += accuracy.item()\n",
        "            pbar.set_postfix(loss=loss.item(), accuracy=accuracy.item(), lr=optimizer.param_groups[0]['lr'])\n",
        "\n",
        "    train_loss = running_loss / len(train_loader)\n",
        "    train_accuracy = running_accuracy / len(train_loader)\n",
        "    train_losses.append(train_loss)\n",
        "    train_accuracies.append(train_accuracy)\n",
        "\n",
        "    # Validation\n",
        "    model.eval()\n",
        "    val_loss = 0\n",
        "    val_accuracy = 0\n",
        "    with torch.no_grad():\n",
        "        for images, labels in valloader:\n",
        "            images = images.view(-1, 32*32*3).to(device)\n",
        "            output = model(images)\n",
        "            \n",
        "            labels_one_hot = torch.eye(100)[labels].to(device)  # Change to 100 classes\n",
        "            val_loss += criterion(output, labels_one_hot).item()\n",
        "            \n",
        "            # Compute accuracy\n",
        "            _, predicted_labels = torch.max(output, 1)\n",
        "            val_accuracy += (predicted_labels == labels.to(device)).float().mean().item()\n",
        "\n",
        "    val_loss /= len(valloader)\n",
        "    val_accuracy /= len(valloader)\n",
        "    val_losses.append(val_loss)\n",
        "    val_accuracies.append(val_accuracy)\n",
        "\n",
        "    # Update learning rate\n",
        "    scheduler.step()\n",
        "\n",
        "    print(f\"Epoch {epoch + 1}, Train Loss: {train_loss}, Train Accuracy: {train_accuracy}, Val Loss: {val_loss}, Val Accuracy: {val_accuracy}\")"
      ]
    },
    {
      "cell_type": "code",
      "execution_count": 8,
      "metadata": {},
      "outputs": [],
      "source": [
        "data = {\n",
        "\"train_accuracy\" : train_accuracies,\n",
        "\"val_accuracy\" : val_accuracies,\n",
        "\"train_loss\" : train_losses,\n",
        "\"val_loss\" : val_losses}\n",
        "\n",
        "df = pd.DataFrame(data)\n",
        "df.to_csv(\"./cifar-100_IB_adamW_0.9_BCE.csv\", index=False)"
      ]
    },
    {
      "cell_type": "code",
      "execution_count": 9,
      "metadata": {},
      "outputs": [
        {
          "data": {
            "text/plain": [
              "Text(0.5, 1.0, 'Accuracy vs. Epochs')"
            ]
          },
          "execution_count": 9,
          "metadata": {},
          "output_type": "execute_result"
        },
        {
          "data": {
            "image/png": "[encoded data removed]",
            "text/plain": [
              "<Figure size 1200x500 with 2 Axes>"
            ]
          },
          "metadata": {},
          "output_type": "display_data"
        }
      ],
      "source": [
        "# Plotting\n",
        "epochs = range(15)\n",
        "plt.figure(figsize=(12, 5))\n",
        "\n",
        "plt.subplot(1, 2, 1)\n",
        "plt.plot(epochs, train_losses, label='Train Loss')\n",
        "plt.plot(epochs, val_losses, label='Validation Loss')\n",
        "plt.xlabel('Epochs')\n",
        "plt.ylabel('Loss')\n",
        "plt.legend()\n",
        "plt.title('Loss vs. Epochs')\n",
        "\n",
        "plt.subplot(1, 2, 2)\n",
        "plt.plot(epochs, train_accuracies, label='Train Accuracy')\n",
        "plt.plot(epochs, val_accuracies, label='Validation Accuracy')\n",
        "plt.xlabel('Epochs')\n",
        "plt.ylabel('Accuracy')\n",
        "plt.legend()\n",
        "plt.title('Accuracy vs. Epochs')"
      ]
    }
  ],
  "metadata": {
    "accelerator": "GPU",
    "colab": {
      "collapsed_sections": [
        "7RE1svm9cXkX",
        "D7ERosp1iM17",
        "CBD58aME1Rvd",
        "tbhg0iWQ1FX-"
      ],
      "gpuType": "L4",
      "machine_shape": "hm",
      "provenance": []
    },
    "kernelspec": {
      "display_name": "Python 3",
      "name": "python3"
    },
    "language_info": {
      "codemirror_mode": {
        "name": "ipython",
        "version": 3
      },
      "file_extension": ".py",
      "mimetype": "text/x-python",
      "name": "python",
      "nbconvert_exporter": "python",
      "pygments_lexer": "ipython3",
      "version": "3.12.3"
    }
  },
  "nbformat": 4,
  "nbformat_minor": 0
}
